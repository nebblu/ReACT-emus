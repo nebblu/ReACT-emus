{
 "cells": [
  {
   "cell_type": "markdown",
   "metadata": {},
   "source": [
    "# Used to convert boost files to npy files "
   ]
  },
  {
   "cell_type": "code",
   "execution_count": null,
   "metadata": {},
   "outputs": [],
   "source": [
    "import numpy as np"
   ]
  },
  {
   "cell_type": "code",
   "execution_count": 172,
   "metadata": {},
   "outputs": [
    {
     "name": "stdout",
     "output_type": "stream",
     "text": [
      "80\n",
      "791 500 395000\n",
      "792 500 395500\n",
      "793 500 396000\n",
      "794 500 396500\n",
      "795 500 397000\n",
      "796 500 397500\n",
      "797 500 398000\n",
      "798 500 398500\n",
      "799 500 399000\n",
      "800 501 399500\n"
     ]
    }
   ],
   "source": [
    "for k in range(1,81):\n",
    "    counter=(k-1)*10*500\n",
    "    arr1 = np.empty(309, dtype=float) \n",
    "    print(k)\n",
    "    for i in range((k-1)*10,10*k):\n",
    "        dat=np.loadtxt(\"data/boost\"+str(i+1)+\".dat\")\n",
    "        print(i+1,len(dat),counter)\n",
    "        for j in range(len(dat[:,])):\n",
    "            arr1 = np.vstack([arr1,dat[j,:]])\n",
    "        counter += len(dat)\n",
    "    arr1 = np.delete(arr1,0,0)\n",
    "    np.save(\"full_data_npy/boost\"+str(k),arr1)"
   ]
  },
  {
   "cell_type": "code",
   "execution_count": 168,
   "metadata": {},
   "outputs": [],
   "source": [
    "dat=np.load(\"full_data_npy/boost1.npy\")\n"
   ]
  },
  {
   "cell_type": "code",
   "execution_count": 169,
   "metadata": {},
   "outputs": [
    {
     "data": {
      "text/plain": [
       "5000"
      ]
     },
     "execution_count": 169,
     "metadata": {},
     "output_type": "execute_result"
    }
   ],
   "source": [
    "len(dat)"
   ]
  },
  {
   "cell_type": "code",
   "execution_count": null,
   "metadata": {},
   "outputs": [],
   "source": []
  }
 ],
 "metadata": {
  "kernelspec": {
   "display_name": "Python 3",
   "language": "python",
   "name": "python3"
  },
  "language_info": {
   "codemirror_mode": {
    "name": "ipython",
    "version": 3
   },
   "file_extension": ".py",
   "mimetype": "text/x-python",
   "name": "python",
   "nbconvert_exporter": "python",
   "pygments_lexer": "ipython3",
   "version": "3.8.5"
  }
 },
 "nbformat": 4,
 "nbformat_minor": 4
}
